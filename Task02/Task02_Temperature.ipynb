{
 "cells": [
  {
   "cell_type": "markdown",
   "metadata": {},
   "source": [
    "# Task 02: Warming Stripes in North Rhine Westphalia (NRW)\n",
    "\n",
    "[Ed Hawkins](https://en.wikipedia.org/wiki/Ed_Hawkins_%28climatologist%29) is a professor of climate science at the University of Reading. He is engaged in science communication conveying climate change in data visualization. He designed the [climate spiral](https://en.wikipedia.org/wiki/Climate_spiral) as well as the warming stripes.\n",
    "\n",
    "**Climate Spiral:**\n",
    "\n",
    "<img src = \"https://upload.wikimedia.org/wikipedia/commons/thumb/5/54/5_9_16_Andrea_TempSpiralEdHawkins.gif/451px-5_9_16_Andrea_TempSpiralEdHawkins.gif\"> </img>\n",
    "<br>\n",
    "*Fig.: Climate Spiral by Ed Hawkins.* <br>\n",
    "Source: https://en.wikipedia.org/wiki/Climate_spiral\n",
    "\n",
    "**Warming Stripes:**\n",
    "\n",
    "\n",
    "<blockquote>\n",
    "Warming stripes (sometimes referred to as climate stripes, climate timelines or stripe graphics) are data visualization graphics that use a series of coloured stripes chronologically ordered to visually portray long-term temperature trends. Warming stripes reflect a \"minimalist\" tyle, conceived to use colour alone to avoid technical distractions and intuitively convey global warming trends to non-scientists. \n",
    "[...]\n",
    "</blockquote>\n",
    "\n",
    "Source: https://en.wikipedia.org/wiki/Warming_stripes\n",
    "\n",
    "\n",
    "\n",
    "https://en.wikipedia.org/wiki/Warming_stripes\n",
    "\n",
    "\n",
    "The https://showyourstripes.info/ Ed Hawkins \n",
    "\n",
    "Global warming can also be observed in NRW on a regional scale.\n",
    "\n",
    "https://github.com/rolfbecker/EE_3.07_Geodata_WS2020/blob/main/gdms0170_DWD_NRW_long_TS/data/derived/DWD_stations_annual_temp_long_TS.csv\n",
    "\n",
    "\n",
    "1. Who is Ed Hawkins?\n",
    "1. When did \n",
    "\n",
    "\n",
    "## About the DWD CDC Archive\n",
    "\n",
    "* DWD: Deutscher Wetterdient, German Weather Service\n",
    "* CDC: Climate Data Center\n",
    "\n",
    "1. DWD CDC main web portal:\n",
    "<br> https://www.dwd.de/EN/climate_environment/cdc/cdc_en.html\n",
    "1. Open Data Archive of the DWD CDC: \n",
    "<br> https://opendata.dwd.de/climate_environment/CDC/\n",
    "1. Decription of the CDC climate and environment data archive organization:\n",
    "<br> https://opendata.dwd.de/climate_environment/CDC/Readme_intro_CDC_ftp.pdf\n",
    "1. Historical climate data:\n",
    "<br> https://opendata.dwd.de/climate_environment/CDC/observations_germany/climate/annual/kl/historical/\n",
    "\n",
    "## Download Data:\n",
    "\n",
    "Youz find the description of the climate stations providing mean annual temperature here: <br>\n",
    "https://opendata.dwd.de/climate_environment/CDC/observations_germany/climate/annual/kl/historical/KL_Jahreswerte_Beschreibung_Stationen.txt\n",
    "\n",
    "Donwload the data (zip archives) for the stations listed in this zip file:\n",
    "\n",
    "https://github.com/rolfbecker/EE_3.07_Geodata_WS2020/blob/main/gdms0170_DWD_NRW_long_TS/data/derived/DWD_stations_annual_temp_long_TS.csv\n",
    "\n",
    "Move them to the local data directory `./data/` and unzip them in different subdirectories, i.e. on Windows\n",
    "\n",
    "`<right click> -> 'extract all ...'`"
   ]
  },
  {
   "cell_type": "code",
   "execution_count": null,
   "metadata": {},
   "outputs": [],
   "source": []
  },
  {
   "cell_type": "code",
   "execution_count": null,
   "metadata": {},
   "outputs": [],
   "source": []
  },
  {
   "cell_type": "code",
   "execution_count": null,
   "metadata": {},
   "outputs": [],
   "source": []
  }
 ],
 "metadata": {
  "kernelspec": {
   "display_name": "Python 3",
   "language": "python",
   "name": "python3"
  },
  "language_info": {
   "codemirror_mode": {
    "name": "ipython",
    "version": 3
   },
   "file_extension": ".py",
   "mimetype": "text/x-python",
   "name": "python",
   "nbconvert_exporter": "python",
   "pygments_lexer": "ipython3",
   "version": "3.8.6"
  }
 },
 "nbformat": 4,
 "nbformat_minor": 4
}
