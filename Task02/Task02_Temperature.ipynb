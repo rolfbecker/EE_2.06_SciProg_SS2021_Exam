{
 "cells": [
  {
   "cell_type": "markdown",
   "metadata": {},
   "source": [
    "# Task 02: Warming Stripes in North Rhine Westphalia (NRW)\n",
    "\n",
    "**[Ed Hawkins](https://en.wikipedia.org/wiki/Ed_Hawkins_%28climatologist%29) is a professor of climate science at the University of Reading**. He is engaged in science communication conveying climate change in data visualization. He designed the [climate spiral](https://en.wikipedia.org/wiki/Climate_spiral) as well as the [warming stripes](https://en.wikipedia.org/wiki/Warming_stripes).\n",
    "\n",
    "## Climate Spiral\n",
    "\n",
    "This animated gif by Ed Hawkins shows the development of monthly temperature differences to the monthly reference temperatures in 1850 (in degree Celsius). \n",
    "\n",
    "<img src = \"https://upload.wikimedia.org/wikipedia/commons/thumb/5/54/5_9_16_Andrea_TempSpiralEdHawkins.gif/451px-5_9_16_Andrea_TempSpiralEdHawkins.gif\"> </img>\n",
    "<br>\n",
    "*Fig.: Climate Spiral by Ed Hawkins.* <br>\n",
    "Source: [Wikipedia, Climate Spiral](https://en.wikipedia.org/wiki/Climate_spiral)\n",
    "\n",
    "## Warming Stripes\n",
    "\n",
    "<blockquote>\n",
    "Warming stripes (sometimes referred to as climate stripes, climate timelines or stripe graphics) are data visualization graphics that use a series of coloured stripes chronologically ordered to visually portray long-term temperature trends. Warming stripes reflect a \"minimalist\" tyle, conceived to use colour alone to avoid technical distractions and intuitively convey global warming trends to non-scientists. \n",
    "[...]\n",
    "</blockquote>\n",
    "\n",
    "Source: [Wikipedia, Warming Stripes](https://en.wikipedia.org/wiki/Warming_stripes)\n",
    "\n",
    "\n",
    "\n",
    "<img src = \"https://showyourstripes.info/stripes/GLOBE---1850-2020-MO-withlabels.png\" width = 800> </img>\n",
    "<br>\n",
    "*Fig.: Warming stripes on a global sclae, from 1850 until 2020* <br>\n",
    "Source: [showyourstripes.info](https://showyourstripes.info/)\n",
    "\n",
    "\n",
    "## EXERCISE: Global Warming in NRW \n",
    "\n",
    "Global warming can also be observed on a regional scale. You will investigate the temperature development in the German federal state of North Rhine Westphalia (NRW). You will use the data of the DWD (Deutscher Wetterdienst, GErman Weather Service).\n",
    "\n",
    "**Your task is to create a diagram comparable to the warming strips with data from 12 still active meteorological stations in North Rhine-Westphalia**, which provide long annual temperature time series (at least 50 years of data).\n",
    "\n",
    "### Download data\n",
    "\n",
    "Download the annual temperature data (part of the KL data set) for the stations listed here: <br>\n",
    "https://github.com/rolfbecker/EE_3.07_Geodata_WS2020/blob/main/gdms0170_DWD_NRW_long_TS/data/derived/DWD_stations_annual_temp_long_TS.csv\n",
    "\n",
    "You find the description of the climate stations providing mean annual temperature here: <br>\n",
    "https://opendata.dwd.de/climate_environment/CDC/observations_germany/climate/annual/kl/historical/KL_Jahreswerte_Beschreibung_Stationen.txt\n",
    "\n",
    "Donwload the data (zip archives) for the 12 stations and them to the local data directory `./data/` and unzip them in different subdirectories, i.e. on Windows\n",
    "\n",
    "`<right click> -> 'extract all ...'`\n",
    "\n",
    "\n",
    "### About the DWD CDC Archive\n",
    "\n",
    "* DWD: Deutscher Wetterdient, German Weather Service\n",
    "* CDC: Climate Data Center\n",
    "\n",
    "1. DWD CDC main web portal:\n",
    "<br> https://www.dwd.de/EN/climate_environment/cdc/cdc_en.html\n",
    "1. Open Data Archive of the DWD CDC: \n",
    "<br> https://opendata.dwd.de/climate_environment/CDC/\n",
    "1. Decription of the CDC climate and environment data archive organization:\n",
    "<br> https://opendata.dwd.de/climate_environment/CDC/Readme_intro_CDC_ftp.pdf\n",
    "1. Historical climate data:\n",
    "<br> https://opendata.dwd.de/climate_environment/CDC/observations_germany/climate/annual/kl/historical/\n",
    "\n",
    "## Download Data:\n",
    "\n"
   ]
  },
  {
   "cell_type": "code",
   "execution_count": null,
   "metadata": {},
   "outputs": [],
   "source": []
  },
  {
   "cell_type": "code",
   "execution_count": null,
   "metadata": {},
   "outputs": [],
   "source": []
  },
  {
   "cell_type": "code",
   "execution_count": null,
   "metadata": {},
   "outputs": [],
   "source": []
  }
 ],
 "metadata": {
  "kernelspec": {
   "display_name": "Python 3",
   "language": "python",
   "name": "python3"
  },
  "language_info": {
   "codemirror_mode": {
    "name": "ipython",
    "version": 3
   },
   "file_extension": ".py",
   "mimetype": "text/x-python",
   "name": "python",
   "nbconvert_exporter": "python",
   "pygments_lexer": "ipython3",
   "version": "3.8.6"
  }
 },
 "nbformat": 4,
 "nbformat_minor": 4
}
