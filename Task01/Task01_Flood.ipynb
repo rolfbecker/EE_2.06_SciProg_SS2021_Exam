{
 "cells": [
  {
   "cell_type": "markdown",
   "metadata": {},
   "source": [
    "# Task 01: Regional Flash Flood in Germany on 2021-07-14\n",
    "\n"
   ]
  },
  {
   "cell_type": "markdown",
   "metadata": {},
   "source": [
    "<img src=\"./images/QGIS_p01_Germany_Flood_p01.png\" width=1000 />\n",
    "_Fig.: RADOLAN spatial precipitation distribution accumulated from 2021-\n",
    "\n",
    "<img src=\"./images/QGIS_p02_EZG_HW_Allt_Rain_Gauges.png\" width=1000 />\n",
    "\n",
    "\n",
    "\n"
   ]
  },
  {
   "cell_type": "code",
   "execution_count": null,
   "metadata": {},
   "outputs": [],
   "source": []
  }
 ],
 "metadata": {
  "kernelspec": {
   "display_name": "Python 3",
   "language": "python",
   "name": "python3"
  },
  "language_info": {
   "codemirror_mode": {
    "name": "ipython",
    "version": 3
   },
   "file_extension": ".py",
   "mimetype": "text/x-python",
   "name": "python",
   "nbconvert_exporter": "python",
   "pygments_lexer": "ipython3",
   "version": "3.8.6"
  }
 },
 "nbformat": 4,
 "nbformat_minor": 4
}
