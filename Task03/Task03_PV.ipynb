{
 "cells": [
  {
   "cell_type": "markdown",
   "metadata": {},
   "source": [
    "# Task 03: Spectral Response of PV Cells\n",
    "\n",
    "* https://pvpmc.sandia.gov/\n",
    "* https://pvpmc.sandia.gov/applications/pv_lib-toolbox/\n",
    "* https://github.com/pvlib/pvlib-python\n",
    "* https://pvlib-python.readthedocs.io/en/latest/index.html\n",
    "\n"
   ]
  },
  {
   "cell_type": "markdown",
   "metadata": {},
   "source": [
    "(For Embedding images see: https://datascienceparichay.com/article/insert-image-in-a-jupyter-notebook/)\n",
    "\n",
    "\n",
    "<img src=\"./images/pvpmc2.png\" width=1000 />\n"
   ]
  },
  {
   "cell_type": "markdown",
   "metadata": {},
   "source": []
  },
  {
   "cell_type": "code",
   "execution_count": null,
   "metadata": {},
   "outputs": [],
   "source": []
  }
 ],
 "metadata": {
  "kernelspec": {
   "display_name": "Python 3",
   "language": "python",
   "name": "python3"
  },
  "language_info": {
   "codemirror_mode": {
    "name": "ipython",
    "version": 3
   },
   "file_extension": ".py",
   "mimetype": "text/x-python",
   "name": "python",
   "nbconvert_exporter": "python",
   "pygments_lexer": "ipython3",
   "version": "3.8.6"
  }
 },
 "nbformat": 4,
 "nbformat_minor": 4
}
