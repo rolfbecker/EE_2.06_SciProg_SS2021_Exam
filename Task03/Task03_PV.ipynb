{
 "cells": [
  {
   "cell_type": "markdown",
   "metadata": {},
   "source": [
    "# Task 03: Spectral Response of PV Cells\n",
    "\n",
    "* https://pvpmc.sandia.gov/\n",
    "* https://pvpmc.sandia.gov/applications/pv_lib-toolbox/\n",
    "* https://github.com/pvlib/pvlib-python\n",
    "* https://pvlib-python.readthedocs.io/en/latest/index.html\n",
    "\n"
   ]
  },
  {
   "cell_type": "markdown",
   "metadata": {},
   "source": [
    "## 3.1 The Sandia PV Performance Modelling Collaborative (PVPMC)\n",
    "\n",
    "\n",
    "<img src=\"./images/pvpmc2.png\" width=1000 />\n",
    "\n",
    "_Fig.: PV performance modelling steps._ <br> Source: https://pvpmc.sandia.gov/\n",
    "\n",
    "The US Sandia National Laboratories are renowned for their research and development in renewable energies. They established the PV Performance Modelling Collaborative (PVPMC), a collabration between industry and national laboratory. The home page of PVPMC is here: https://pvpmc.sandia.gov/\n",
    "\n",
    "The PVPMC defined 10 steps to assess PV module performance. The above diagram gives you and overview.\n",
    "\n",
    "Click on the menu item `Modelling Steps`. This opens a new [sub page](https://pvpmc.sandia.gov/modeling-steps/) describing the modelling steps. \n",
    "\n",
    "**Get a rough general overview of the first two chapters!**\n",
    "\n",
    "## 3.2 Irradiance & Insolation (not insulation!)\n",
    "\n",
    "Read the section [Irradiance & Insolation](https://pvpmc.sandia.gov/modeling-steps/1-weather-design-inputs/irradiance-and-insolation-2/). \n",
    "\n",
    "1. How do you get the insolation from the irradiance? What are typcial units of these two quantities?\n",
    "1. What are normal irradiance, diffuse horizontal irradiance and global horizontal irradiance and how do you measure it?\n"
   ]
  },
  {
   "cell_type": "markdown",
   "metadata": {},
   "source": [
    "## 3.3 Install pvlib and get an overview about the documentation\n",
    "\n",
    "The PVPMC provides the comprehensive library `pvlib` for numerical quantitative evaluation of planned PV power plants and support during the design phase. Relevant links are:\n",
    "\n",
    "* pvlib toolbox home page: https://pvpmc.sandia.gov/applications/pv_lib-toolbox/\n",
    "* Source code as well as example and tutorial code: https://github.com/pvlib/pvlib-python\n",
    "* Documentation: https://pvlib-python.readthedocs.io/en/latest/index.html\n",
    "\n",
    "Execute `conda install -c pvlib pvlib`on the Anaconda prompt. It is highly recommended (but not mandatory) that you create a dedicated conda environment first with all necessary installations (e.g. jupyter, numpy, etc.) and to install pvlib into that isolated environment.\n",
    "\n",
    "Get an **overview** of the [pvlib software documentation](https://pvlib-python.readthedocs.io/en/latest/index.html) (intro, tutorial, gallery, api reference).\n",
    "\n",
    "The [API reference](https://pvlib-python.readthedocs.io/en/latest/api.html) provides a list of all functions and classes provided by the toolbox.\n",
    "\n",
    "1. What does `pvlib.location.Location.get_clearsky()` do?\n"
   ]
  },
  {
   "cell_type": "markdown",
   "metadata": {},
   "source": [
    "## 3.4 Plane of Array (POA) Irradiance\n",
    "\n",
    "Read https://pvpmc.sandia.gov/modeling-steps/1-weather-design-inputs/plane-of-array-poa-irradiance/\n",
    "\n",
    "When you set up a solar PV generator it usally consists of a set of modules called array. The normal vector (also just called normal) of the array is the direction vector (unit length) perpendicular on the PV module surface. Usually al modules of an PV module array point in the same direction, i.e. have the same normal vector. These parallel PV module surfaces are summarized as the Plane of Array **POA**. The direction of the POA is the direction of each module.\n",
    "\n",
    "With the clear sky function you get the global irradiance on a horizontal surface **GHI** for a specific location and time under the clear sky assumption, i.e. weather phenomena such as clouds are not taken into account.\n",
    "\n",
    "The GHI can be roughly estimated by means of the clear sky function. It then has to be transformed to irradiance collected by tilted modules with a given POA. The pylib documentation shows an example how to perform the transformation from GHI to the POA irradiance: https://pvlib-python.readthedocs.io/en/latest/auto_examples/plot_ghi_transposition.html#sphx-glr-auto-examples-plot-ghi-transposition-py\n",
    "\n",
    "Calculate the POA irradiance for modules in the garden of the Green Fablab Kamp-Lintfort!\n"
   ]
  },
  {
   "cell_type": "code",
   "execution_count": null,
   "metadata": {},
   "outputs": [],
   "source": []
  },
  {
   "cell_type": "markdown",
   "metadata": {},
   "source": [
    "## 3.2 Create the Analemmas for Kamp-Lintfort"
   ]
  },
  {
   "cell_type": "code",
   "execution_count": null,
   "metadata": {},
   "outputs": [],
   "source": []
  },
  {
   "cell_type": "markdown",
   "metadata": {},
   "source": [
    "## 3.3 "
   ]
  },
  {
   "cell_type": "code",
   "execution_count": null,
   "metadata": {},
   "outputs": [],
   "source": []
  },
  {
   "cell_type": "markdown",
   "metadata": {},
   "source": [
    "## 3.4"
   ]
  },
  {
   "cell_type": "code",
   "execution_count": null,
   "metadata": {},
   "outputs": [],
   "source": []
  }
 ],
 "metadata": {
  "kernelspec": {
   "display_name": "Python 3",
   "language": "python",
   "name": "python3"
  },
  "language_info": {
   "codemirror_mode": {
    "name": "ipython",
    "version": 3
   },
   "file_extension": ".py",
   "mimetype": "text/x-python",
   "name": "python",
   "nbconvert_exporter": "python",
   "pygments_lexer": "ipython3",
   "version": "3.8.6"
  }
 },
 "nbformat": 4,
 "nbformat_minor": 4
}
