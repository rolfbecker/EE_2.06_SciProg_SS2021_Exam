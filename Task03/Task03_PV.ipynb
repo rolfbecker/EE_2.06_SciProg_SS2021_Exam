{
 "cells": [
  {
   "cell_type": "markdown",
   "metadata": {},
   "source": [
    "# Task 03: Spectral Response of PV Cells\n",
    "\n",
    "* https://pvpmc.sandia.gov/\n",
    "* https://pvpmc.sandia.gov/applications/pv_lib-toolbox/\n",
    "* https://github.com/pvlib/pvlib-python\n",
    "* https://pvlib-python.readthedocs.io/en/latest/index.html\n",
    "\n"
   ]
  },
  {
   "cell_type": "markdown",
   "metadata": {},
   "source": [
    "## 3.1 The Sandia PV Performance Modelling Collaborative (PVPMC)\n",
    "\n",
    "\n",
    "<img src=\"./images/pvpmc2.png\" width=1000 />\n",
    "\n",
    "_Fig.: PV performance modelling steps._ <br> Source: https://pvpmc.sandia.gov/\n",
    "\n",
    "The US Sandia National Laboratories are renowned for their research and development in renewable energies. They established the PV Performance Modelling Collaborative (PVPMC), a collabration between industry and national laboratory. The home page of PVPMC is here: https://pvpmc.sandia.gov/\n",
    "\n",
    "The PVPMC defined 10 steps to assess PV module performance. The above diagram gives you and overview.\n",
    "\n",
    "Click on the menu item `Modelling Steps`. This opens a new [sub page](https://pvpmc.sandia.gov/modeling-steps/) describing the modelling steps. \n",
    "\n",
    "**Get a rough general overview of the first two chapters!**\n",
    "\n",
    "## 3.2 Irradiance & Insolation (not insulation!)\n",
    "\n",
    "Read the section [Irradiance & Insolation](https://pvpmc.sandia.gov/modeling-steps/1-weather-design-inputs/irradiance-and-insolation-2/). \n",
    "\n",
    "1. How do you get the insolation from the irradiance? What are typcial units of these two quantities?\n",
    "1. What are normal irradiance, diffuse horizontal irradiance and global horizontal irradiance and how do you measure it?\n"
   ]
  },
  {
   "cell_type": "markdown",
   "metadata": {},
   "source": [
    "## 3.3 Install pvlib and get an overview about the documentation\n",
    "\n",
    "The PVPMC provides the comprehensive library `pvlib` for numerical quantitative evaluation of planned PV power plants and support during the design phase. Relevant links are:\n",
    "\n",
    "* pvlib toolbox home page: https://pvpmc.sandia.gov/applications/pv_lib-toolbox/\n",
    "* Source code and example code (https://github.com/pvlib/pvlib-python\n",
    "* https://pvlib-python.readthedocs.io/en/latest/index.html\n",
    "\n",
    "Execute `conda install -c pvlib pvlib`on the Anaconda prompt (Anaconda command line interface (CLI)) to install the library. It is highly recommended (but not mandatory) that you create a dedicated conda environment first with all necessary installations (e.g. jupyter, numpy, etc.) and to install pvlib into that isolated environment."
   ]
  },
  {
   "cell_type": "markdown",
   "metadata": {},
   "source": []
  },
  {
   "cell_type": "code",
   "execution_count": null,
   "metadata": {},
   "outputs": [],
   "source": []
  },
  {
   "cell_type": "markdown",
   "metadata": {},
   "source": [
    "## 3.2 Create the Analemmas for Kamp-Lintfort"
   ]
  },
  {
   "cell_type": "code",
   "execution_count": null,
   "metadata": {},
   "outputs": [],
   "source": []
  },
  {
   "cell_type": "markdown",
   "metadata": {},
   "source": [
    "## 3.3 "
   ]
  },
  {
   "cell_type": "code",
   "execution_count": null,
   "metadata": {},
   "outputs": [],
   "source": []
  },
  {
   "cell_type": "markdown",
   "metadata": {},
   "source": [
    "## 3.4"
   ]
  },
  {
   "cell_type": "code",
   "execution_count": null,
   "metadata": {},
   "outputs": [],
   "source": []
  }
 ],
 "metadata": {
  "kernelspec": {
   "display_name": "Python 3",
   "language": "python",
   "name": "python3"
  },
  "language_info": {
   "codemirror_mode": {
    "name": "ipython",
    "version": 3
   },
   "file_extension": ".py",
   "mimetype": "text/x-python",
   "name": "python",
   "nbconvert_exporter": "python",
   "pygments_lexer": "ipython3",
   "version": "3.8.6"
  }
 },
 "nbformat": 4,
 "nbformat_minor": 4
}
